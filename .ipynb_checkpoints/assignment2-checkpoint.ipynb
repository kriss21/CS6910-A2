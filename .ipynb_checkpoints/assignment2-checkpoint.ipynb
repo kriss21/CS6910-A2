{
 "cells": [
  {
   "cell_type": "code",
   "execution_count": 1,
   "metadata": {},
   "outputs": [],
   "source": [
    "import numpy as np\n",
    "import matplotlib.pyplot as plt\n",
    "import keras\n",
    "import tensorflow as tf"
   ]
  },
  {
   "cell_type": "code",
   "execution_count": 2,
   "metadata": {},
   "outputs": [],
   "source": [
    "from keras.layers import Conv2D,Dense,Activation,MaxPooling2D,Flatten,BatchNormalization,Dropout,InputLayer\n",
    "from keras.models import Sequential"
   ]
  },
  {
   "cell_type": "code",
   "execution_count": 3,
   "metadata": {},
   "outputs": [],
   "source": [
    "physical_devices = tf.config.list_physical_devices('GPU')\n",
    "tf.config.experimental.set_memory_growth(physical_devices[0], enable=True)"
   ]
  },
  {
   "cell_type": "code",
   "execution_count": 14,
   "metadata": {},
   "outputs": [],
   "source": [
    "class cnn_model:\n",
    "    def __init__(self,input_shape):\n",
    "        self.input_shape = input_shape\n",
    "        self.model = Sequential()\n",
    "        self.model.add(InputLayer(input_shape=input_shape))\n",
    "        \n",
    "    def add_cnn_block(self,nfilters=16,filter_size=(2,2),activation='relu',pool_size=(2,2),batch_norm='yes',dropout=None):\n",
    "        self.model.add(Conv2D(nfilters,filter_size,padding=\"same\"))\n",
    "        if batch_norm == 'yes':\n",
    "            self.model.add(BatchNormalization())\n",
    "        self.model.add(Activation(activation))\n",
    "        if dropout is not None:\n",
    "            self.model.add(Dropout(dropout))\n",
    "        self.model.add(MaxPooling2D(pool_size=pool_size,strides=(2,2),padding=\"same\"))\n",
    "        \n",
    "    def add_dense_layer(self,neurons=16):\n",
    "        self.model.add(Flatten())\n",
    "        self.model.add(Dense(neurons,activation='relu'))\n",
    "        \n",
    "    def build_model(self,output,optimizer='adam',loss='categorical_crossentropy'):\n",
    "        self.model.add(Dense(output,activation='softmax'))\n",
    "        self.model.compile(optimizer=optimizer,loss=loss,metrics=['accuracy'])\n",
    "        self.model.summary()\n",
    "        return self.model"
   ]
  },
  {
   "cell_type": "code",
   "execution_count": 15,
   "metadata": {},
   "outputs": [],
   "source": [
    "from tensorflow.keras.preprocessing.image import ImageDataGenerator"
   ]
  },
  {
   "cell_type": "code",
   "execution_count": 18,
   "metadata": {},
   "outputs": [
    {
     "name": "stdout",
     "output_type": "stream",
     "text": [
      "Found 8999 images belonging to 10 classes.\n",
      "Found 1000 images belonging to 10 classes.\n"
     ]
    }
   ],
   "source": [
    "train_datagen = ImageDataGenerator(\n",
    "    rescale=1./255,\n",
    "    shear_range=0.2,\n",
    "    zoom_range=0.2,\n",
    "    horizontal_flip=True)\n",
    "\n",
    "test_datagen = ImageDataGenerator(rescale=1./255)\n",
    "\n",
    "pref = '../inaturalist_12K/'\n",
    " \n",
    "train_generator = train_datagen.flow_from_directory(\n",
    "    pref+'train',\n",
    "    target_size=(224,224),\n",
    "    batch_size=16,\n",
    "    class_mode='categorical')\n",
    "\n",
    "val_generator = test_datagen.flow_from_directory(\n",
    "    pref+'val',\n",
    "    target_size=(224,224),\n",
    "    batch_size=16,\n",
    "    class_mode='categorical')"
   ]
  },
  {
   "cell_type": "code",
   "execution_count": 21,
   "metadata": {},
   "outputs": [
    {
     "name": "stdout",
     "output_type": "stream",
     "text": [
      "Model: \"sequential\"\n",
      "_________________________________________________________________\n",
      "Layer (type)                 Output Shape              Param #   \n",
      "=================================================================\n",
      "conv2d (Conv2D)              (None, 224, 224, 16)      2368      \n",
      "_________________________________________________________________\n",
      "batch_normalization (BatchNo (None, 224, 224, 16)      64        \n",
      "_________________________________________________________________\n",
      "activation (Activation)      (None, 224, 224, 16)      0         \n",
      "_________________________________________________________________\n",
      "dropout (Dropout)            (None, 224, 224, 16)      0         \n",
      "_________________________________________________________________\n",
      "max_pooling2d (MaxPooling2D) (None, 112, 112, 16)      0         \n",
      "_________________________________________________________________\n",
      "conv2d_1 (Conv2D)            (None, 112, 112, 16)      12560     \n",
      "_________________________________________________________________\n",
      "batch_normalization_1 (Batch (None, 112, 112, 16)      64        \n",
      "_________________________________________________________________\n",
      "activation_1 (Activation)    (None, 112, 112, 16)      0         \n",
      "_________________________________________________________________\n",
      "dropout_1 (Dropout)          (None, 112, 112, 16)      0         \n",
      "_________________________________________________________________\n",
      "max_pooling2d_1 (MaxPooling2 (None, 56, 56, 16)        0         \n",
      "_________________________________________________________________\n",
      "conv2d_2 (Conv2D)            (None, 56, 56, 16)        12560     \n",
      "_________________________________________________________________\n",
      "batch_normalization_2 (Batch (None, 56, 56, 16)        64        \n",
      "_________________________________________________________________\n",
      "activation_2 (Activation)    (None, 56, 56, 16)        0         \n",
      "_________________________________________________________________\n",
      "dropout_2 (Dropout)          (None, 56, 56, 16)        0         \n",
      "_________________________________________________________________\n",
      "max_pooling2d_2 (MaxPooling2 (None, 28, 28, 16)        0         \n",
      "_________________________________________________________________\n",
      "flatten (Flatten)            (None, 12544)             0         \n",
      "_________________________________________________________________\n",
      "dense (Dense)                (None, 16)                200720    \n",
      "_________________________________________________________________\n",
      "dense_1 (Dense)              (None, 10)                170       \n",
      "=================================================================\n",
      "Total params: 228,570\n",
      "Trainable params: 228,474\n",
      "Non-trainable params: 96\n",
      "_________________________________________________________________\n"
     ]
    }
   ],
   "source": [
    "keras.backend.clear_session()\n",
    "model = cnn_model((224,224,3))\n",
    "model.add_cnn_block(nfilters=16,filter_size=(7,7),dropout=0.2)\n",
    "model.add_cnn_block(nfilters=16,filter_size=(7,7),dropout=0.2)\n",
    "model.add_cnn_block(nfilters=16,filter_size=(7,7),dropout=0.2)\n",
    "model.add_dense_layer(16)\n",
    "training = model.build_model(10)"
   ]
  },
  {
   "cell_type": "code",
   "execution_count": null,
   "metadata": {},
   "outputs": [],
   "source": [
    "training.fit_generator(train_generator,\n",
    "                   steps_per_epoch=200,\n",
    "                   epochs=10,\n",
    "                   validation_data=val_generator,\n",
    "                   validation_steps=50)"
   ]
  },
  {
   "cell_type": "code",
   "execution_count": null,
   "metadata": {},
   "outputs": [],
   "source": []
  }
 ],
 "metadata": {
  "kernelspec": {
   "display_name": "Python 3",
   "language": "python",
   "name": "python3"
  },
  "language_info": {
   "codemirror_mode": {
    "name": "ipython",
    "version": 3
   },
   "file_extension": ".py",
   "mimetype": "text/x-python",
   "name": "python",
   "nbconvert_exporter": "python",
   "pygments_lexer": "ipython3",
   "version": "3.8.3"
  }
 },
 "nbformat": 4,
 "nbformat_minor": 4
}
